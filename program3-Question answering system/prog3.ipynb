{
 "cells": [
  {
   "cell_type": "markdown",
   "id": "b2dccc7f",
   "metadata": {},
   "source": [
    "## Question Answering System"
   ]
  },
  {
   "cell_type": "code",
   "execution_count": 72,
   "id": "95093df8",
   "metadata": {},
   "outputs": [],
   "source": [
    "import pandas as pd\n",
    "import numpy as np"
   ]
  },
  {
   "cell_type": "code",
   "execution_count": 73,
   "id": "4a012525",
   "metadata": {
    "scrolled": true
   },
   "outputs": [
    {
     "data": {
      "text/html": [
       "<div>\n",
       "<style scoped>\n",
       "    .dataframe tbody tr th:only-of-type {\n",
       "        vertical-align: middle;\n",
       "    }\n",
       "\n",
       "    .dataframe tbody tr th {\n",
       "        vertical-align: top;\n",
       "    }\n",
       "\n",
       "    .dataframe thead th {\n",
       "        text-align: right;\n",
       "    }\n",
       "</style>\n",
       "<table border=\"1\" class=\"dataframe\">\n",
       "  <thead>\n",
       "    <tr style=\"text-align: right;\">\n",
       "      <th></th>\n",
       "      <th>que</th>\n",
       "      <th>ans</th>\n",
       "    </tr>\n",
       "  </thead>\n",
       "  <tbody>\n",
       "    <tr>\n",
       "      <th>0</th>\n",
       "      <td>what are the courses run by JMI</td>\n",
       "      <td>JMI runs the courses of btech, mtech, B.arch</td>\n",
       "    </tr>\n",
       "    <tr>\n",
       "      <th>1</th>\n",
       "      <td>Where is JMI located</td>\n",
       "      <td>JMI is located in jamia nagar new delhi</td>\n",
       "    </tr>\n",
       "  </tbody>\n",
       "</table>\n",
       "</div>"
      ],
      "text/plain": [
       "                               que  \\\n",
       "0  what are the courses run by JMI   \n",
       "1             Where is JMI located   \n",
       "\n",
       "                                            ans  \n",
       "0  JMI runs the courses of btech, mtech, B.arch  \n",
       "1       JMI is located in jamia nagar new delhi  "
      ]
     },
     "execution_count": 73,
     "metadata": {},
     "output_type": "execute_result"
    }
   ],
   "source": [
    "df = pd.read_csv(\"que.txt\")\n",
    "df"
   ]
  },
  {
   "cell_type": "code",
   "execution_count": 74,
   "id": "dde1960e",
   "metadata": {},
   "outputs": [],
   "source": [
    "punctuations = '''!()-[]{};:'\"\\,<>./?@#$%^&*_~'''\n",
    "def calFreq(que):\n",
    "    frequency = {}\n",
    "\n",
    "    for word in que.split():\n",
    "        word = word.lower()\n",
    "        if word[-1] in punctuations:\n",
    "            word = word[0:len(word)-1]\n",
    "\n",
    "        if word in frequency:\n",
    "            frequency[word] += 1\n",
    "        else:\n",
    "            frequency.update({word: 1}) \n",
    "\n",
    "    return frequency"
   ]
  },
  {
   "cell_type": "code",
   "execution_count": 75,
   "id": "5aa60cef",
   "metadata": {},
   "outputs": [],
   "source": [
    "def findCosineSimilarity(matrix):\n",
    "    r1 = matrix[0]\n",
    "    r2 = matrix[1]\n",
    "    \n",
    "    dot_product = np.dot(r1, r2)\n",
    "    \n",
    "    norm_r1 = np.linalg.norm(r1)\n",
    "    norm_r2 = np.linalg.norm(r2)\n",
    "\n",
    "    cosine_similarity = dot_product / (norm_r1 * norm_r2)\n",
    "\n",
    "#     print(\"Cosine Similarity between Row 1 and Row 2:\", cosine_similarity)\n",
    "    return cosine_similarity"
   ]
  },
  {
   "cell_type": "code",
   "execution_count": 76,
   "id": "6baae43e",
   "metadata": {},
   "outputs": [
    {
     "name": "stdout",
     "output_type": "stream",
     "text": [
      "{'what': 1, 'are': 1, 'the': 1, 'courses': 1, 'run': 1, 'by': 1, 'jmi': 1}\n",
      "{'where': 1, 'is': 1, 'jmi': 1, 'located': 1}\n"
     ]
    }
   ],
   "source": [
    "FreqDictForEachQue = []\n",
    "\n",
    "for i in range(0, df.shape[0]):\n",
    "    question = df.loc[i, \"que\"]\n",
    "#     print(question)\n",
    "    dictionary = calFreq(question)\n",
    "    FreqDictForEachQue.append(dictionary)\n",
    "\n",
    "for i in range(0, len(FreqDictForEachQue)):\n",
    "    print(FreqDictForEachQue[i])"
   ]
  },
  {
   "cell_type": "code",
   "execution_count": 81,
   "id": "b4bdeec9",
   "metadata": {},
   "outputs": [
    {
     "name": "stdout",
     "output_type": "stream",
     "text": [
      "Courses in jmi\n",
      "{'courses': 1, 'in': 1, 'jmi': 1}\n"
     ]
    }
   ],
   "source": [
    "my_que = input()\n",
    "my_que_dict = calFreq(my_que)\n",
    "print(my_que_dict)"
   ]
  },
  {
   "cell_type": "code",
   "execution_count": 85,
   "id": "fbbd8188",
   "metadata": {},
   "outputs": [
    {
     "name": "stdout",
     "output_type": "stream",
     "text": [
      "my que :  Courses in jmi\n",
      "answer :  JMI runs the courses of btech, mtech, B.arch\n"
     ]
    }
   ],
   "source": [
    "max_cosine_similarity = 0\n",
    "row = 0\n",
    "\n",
    "for j in range(0, len(FreqDictForEachQue)):\n",
    "    all_words = set(my_que_dict.keys()) | set(FreqDictForEachQue[j].keys())\n",
    "\n",
    "    matrix = np.zeros((2, len(all_words)))\n",
    "\n",
    "    for i, word in enumerate(all_words): \n",
    "        matrix[0, i] = my_que_dict.get(word, 0) \n",
    "        matrix[1, i] = FreqDictForEachQue[j].get(word, 0)\n",
    "\n",
    "    cosine_similarity = findCosineSimilarity(matrix)\n",
    "    \n",
    "    if max_cosine_similarity < cosine_similarity:\n",
    "        max_cosine_similarity = cosine_similarity\n",
    "        row = j\n",
    "\n",
    "print(\"my que : \", my_que)\n",
    "print(\"answer : \", df.loc[row, \"ans\"])"
   ]
  },
  {
   "cell_type": "code",
   "execution_count": null,
   "id": "9b3a3b4e",
   "metadata": {},
   "outputs": [],
   "source": []
  }
 ],
 "metadata": {
  "kernelspec": {
   "display_name": "Python 3 (ipykernel)",
   "language": "python",
   "name": "python3"
  },
  "language_info": {
   "codemirror_mode": {
    "name": "ipython",
    "version": 3
   },
   "file_extension": ".py",
   "mimetype": "text/x-python",
   "name": "python",
   "nbconvert_exporter": "python",
   "pygments_lexer": "ipython3",
   "version": "3.11.5"
  }
 },
 "nbformat": 4,
 "nbformat_minor": 5
}
