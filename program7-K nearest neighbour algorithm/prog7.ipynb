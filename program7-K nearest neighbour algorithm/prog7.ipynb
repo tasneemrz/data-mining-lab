{
 "cells": [
  {
   "cell_type": "markdown",
   "metadata": {},
   "source": [
    "## K - Nearest Neighbour"
   ]
  },
  {
   "cell_type": "code",
   "execution_count": 1,
   "metadata": {},
   "outputs": [],
   "source": [
    "import numpy as np\n",
    "import pandas as pd\n",
    "import os\n",
    "import matplotlib.pyplot as plt"
   ]
  },
  {
   "cell_type": "code",
   "execution_count": 2,
   "metadata": {},
   "outputs": [],
   "source": [
    "data_fr = pd.read_csv('data.csv')\n",
    "test_fr = pd.read_csv('test.csv')"
   ]
  },
  {
   "cell_type": "code",
   "execution_count": 3,
   "metadata": {},
   "outputs": [
    {
     "name": "stdout",
     "output_type": "stream",
     "text": [
      "      a1    a2  red  green  blue  output\n",
      "0   16.7  65.9    0    128     0     1.0\n",
      "1   23.8  64.4  255     20   147     0.0\n",
      "2   40.3  24.1  255    215     0     0.0\n",
      "3   37.6  47.2  255    140     0     0.0\n",
      "4    9.7  43.8  255    215     0     0.0\n",
      "..   ...   ...  ...    ...   ...     ...\n",
      "56  49.6  37.2  255     20   147     0.0\n",
      "57  38.1  11.3  255    215     0     0.0\n",
      "58   7.5  13.6  139      0   139     1.0\n",
      "59  59.4   9.6    0    128     0     1.0\n",
      "60  47.3  15.8  255    250     1     NaN\n",
      "\n",
      "[61 rows x 6 columns]\n"
     ]
    }
   ],
   "source": [
    "print(data_fr)"
   ]
  },
  {
   "cell_type": "code",
   "execution_count": 4,
   "metadata": {},
   "outputs": [
    {
     "name": "stdout",
     "output_type": "stream",
     "text": [
      "     a1    a2  red  green  blue\n",
      "0   9.7  66.5    0      0   255\n",
      "1  50.7  24.1  255    215   255\n",
      "2  32.4  54.4    0    128     0\n",
      "3  38.1  46.6  255      0   255\n",
      "4  26.5  57.1    0    128     0\n"
     ]
    }
   ],
   "source": [
    "print(test_fr)"
   ]
  },
  {
   "cell_type": "code",
   "execution_count": 5,
   "metadata": {},
   "outputs": [],
   "source": [
    "K = 7"
   ]
  },
  {
   "cell_type": "code",
   "execution_count": 6,
   "metadata": {},
   "outputs": [],
   "source": [
    "def calculate_euclidean_distance(test_point, data_point):\n",
    "    dis = 0.0\n",
    "    for i in range(0, len(test_point)):\n",
    "        dis = dis + pow(test_point[i] - data_point[i], 2)\n",
    "    dis = pow(dis, 0.5)\n",
    "    return [dis, data_point[5]]"
   ]
  },
  {
   "cell_type": "code",
   "execution_count": null,
   "metadata": {},
   "outputs": [],
   "source": [
    "# test_point = [4.5 , 3.8 , 255 , 0 ,0]"
   ]
  },
  {
   "cell_type": "code",
   "execution_count": 7,
   "metadata": {},
   "outputs": [],
   "source": [
    "def KNN(test_point):\n",
    "    neighbours_info = []\n",
    "    \n",
    "    for index, row in data_fr.iterrows():\n",
    "        data_point = np.asarray(row)\n",
    "        neighbours_info.append(calculate_euclidean_distance(test_point, data_point))\n",
    "\n",
    "    neighbours_info_sorted = sorted(neighbours_info, key=lambda x: x[0])\n",
    "\n",
    "    ny = 0\n",
    "    for i in range(0, K):\n",
    "        if neighbours_info_sorted[i][1] == 1.0:\n",
    "            ny += 1\n",
    "    \n",
    "    if ny >= K/2:\n",
    "        return 1.0  # Output is Yes\n",
    "    else:\n",
    "        return 0.0  # Output is No"
   ]
  },
  {
   "cell_type": "code",
   "execution_count": 8,
   "metadata": {},
   "outputs": [
    {
     "name": "stdout",
     "output_type": "stream",
     "text": [
      "     a1    a2  red  green  blue  output\n",
      "0   9.7  66.5    0      0   255     0.0\n",
      "1  50.7  24.1  255    215   255     1.0\n",
      "2  32.4  54.4    0    128     0     1.0\n",
      "3  38.1  46.6  255      0   255     0.0\n",
      "4  26.5  57.1    0    128     0     1.0\n"
     ]
    }
   ],
   "source": [
    "test_fr['output'] = test_fr.apply(lambda row: KNN(np.asarray(row)), axis=1)\n",
    "print(test_fr)"
   ]
  },
  {
   "cell_type": "code",
   "execution_count": 19,
   "metadata": {},
   "outputs": [
    {
     "data": {
      "image/png": "[encoded data removed]",
      "text/plain": [
       "<Figure size 640x480 with 1 Axes>"
      ]
     },
     "metadata": {},
     "output_type": "display_data"
    }
   ],
   "source": [
    "# Plotting the data points\n",
    "for index, row in data_fr.iterrows():\n",
    "    marker = 'x' if row['output'] == 0 else 'o'\n",
    "    plt.scatter(row['a1'], row['a2'], c='black', marker=marker, s=30)\n",
    "\n",
    "# Plotting the test points\n",
    "for index, row in test_fr.iterrows():\n",
    "    marker = 'x' if row['output'] == 0 else 'o'\n",
    "    plt.scatter(row['a1'], row['a2'], c='green', marker=marker, s=30)\n",
    "\n",
    "plt.xlabel('a1')\n",
    "plt.ylabel('a2')\n",
    "plt.title('Scatter Plot of Points')\n",
    "plt.show()"
   ]
  },
  {
   "cell_type": "code",
   "execution_count": null,
   "metadata": {},
   "outputs": [],
   "source": []
  }
 ],
 "metadata": {
  "kernelspec": {
   "display_name": "Python 3 (ipykernel)",
   "language": "python",
   "name": "python3"
  },
  "language_info": {
   "codemirror_mode": {
    "name": "ipython",
    "version": 3
   },
   "file_extension": ".py",
   "mimetype": "text/x-python",
   "name": "python",
   "nbconvert_exporter": "python",
   "pygments_lexer": "ipython3",
   "version": "3.11.5"
  }
 },
 "nbformat": 4,
 "nbformat_minor": 2
}
