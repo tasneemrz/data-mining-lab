{
 "cells": [
  {
   "cell_type": "markdown",
   "id": "e4977b1e",
   "metadata": {},
   "source": [
    "## Apriori Algorithm"
   ]
  },
  {
   "cell_type": "code",
   "execution_count": 1,
   "id": "f5e91ad0",
   "metadata": {},
   "outputs": [],
   "source": [
    "import pandas as pd\n",
    "import numpy as np\n",
    "from collections import defaultdict\n",
    "from itertools import combinations"
   ]
  },
  {
   "cell_type": "code",
   "execution_count": 5,
   "id": "74d728d2",
   "metadata": {},
   "outputs": [],
   "source": [
    "def print_frozenset(set_of_sets):\n",
    "    formatted_set_of_sets = \"{{\" + \"}, {\".join(\", \".join(map(str, inner_set)) for inner_set in set_of_sets) + \"}}\"\n",
    "    print(formatted_set_of_sets)"
   ]
  },
  {
   "cell_type": "code",
   "execution_count": 2,
   "id": "1dc79f13",
   "metadata": {},
   "outputs": [
    {
     "data": {
      "text/html": [
       "<div>\n",
       "<style scoped>\n",
       "    .dataframe tbody tr th:only-of-type {\n",
       "        vertical-align: middle;\n",
       "    }\n",
       "\n",
       "    .dataframe tbody tr th {\n",
       "        vertical-align: top;\n",
       "    }\n",
       "\n",
       "    .dataframe thead th {\n",
       "        text-align: right;\n",
       "    }\n",
       "</style>\n",
       "<table border=\"1\" class=\"dataframe\">\n",
       "  <thead>\n",
       "    <tr style=\"text-align: right;\">\n",
       "      <th></th>\n",
       "      <th>TransactionId</th>\n",
       "      <th>Items</th>\n",
       "    </tr>\n",
       "  </thead>\n",
       "  <tbody>\n",
       "    <tr>\n",
       "      <th>0</th>\n",
       "      <td>1</td>\n",
       "      <td>ACD</td>\n",
       "    </tr>\n",
       "    <tr>\n",
       "      <th>1</th>\n",
       "      <td>2</td>\n",
       "      <td>BCE</td>\n",
       "    </tr>\n",
       "    <tr>\n",
       "      <th>2</th>\n",
       "      <td>3</td>\n",
       "      <td>ABCE</td>\n",
       "    </tr>\n",
       "    <tr>\n",
       "      <th>3</th>\n",
       "      <td>4</td>\n",
       "      <td>BE</td>\n",
       "    </tr>\n",
       "  </tbody>\n",
       "</table>\n",
       "</div>"
      ],
      "text/plain": [
       "   TransactionId Items\n",
       "0              1   ACD\n",
       "1              2   BCE\n",
       "2              3  ABCE\n",
       "3              4    BE"
      ]
     },
     "execution_count": 2,
     "metadata": {},
     "output_type": "execute_result"
    }
   ],
   "source": [
    "df = pd.read_csv(\"data.txt\")\n",
    "df"
   ]
  },
  {
   "cell_type": "code",
   "execution_count": 3,
   "id": "3893de5c",
   "metadata": {},
   "outputs": [
    {
     "name": "stdout",
     "output_type": "stream",
     "text": [
      "['ACD', 'BCE', 'ABCE', 'BE']\n"
     ]
    }
   ],
   "source": [
    "transactions = []\n",
    "\n",
    "for i in range(0, df.shape[0]):\n",
    "    transactions.append(df.iloc[i, 1])\n",
    "    \n",
    "print(transactions)"
   ]
  },
  {
   "cell_type": "code",
   "execution_count": 4,
   "id": "7096f92c",
   "metadata": {},
   "outputs": [
    {
     "data": {
      "text/html": [
       "<div>\n",
       "<style scoped>\n",
       "    .dataframe tbody tr th:only-of-type {\n",
       "        vertical-align: middle;\n",
       "    }\n",
       "\n",
       "    .dataframe tbody tr th {\n",
       "        vertical-align: top;\n",
       "    }\n",
       "\n",
       "    .dataframe thead th {\n",
       "        text-align: right;\n",
       "    }\n",
       "</style>\n",
       "<table border=\"1\" class=\"dataframe\">\n",
       "  <thead>\n",
       "    <tr style=\"text-align: right;\">\n",
       "      <th></th>\n",
       "      <th>Freq</th>\n",
       "    </tr>\n",
       "  </thead>\n",
       "  <tbody>\n",
       "    <tr>\n",
       "      <th>A</th>\n",
       "      <td>2</td>\n",
       "    </tr>\n",
       "    <tr>\n",
       "      <th>C</th>\n",
       "      <td>3</td>\n",
       "    </tr>\n",
       "    <tr>\n",
       "      <th>D</th>\n",
       "      <td>1</td>\n",
       "    </tr>\n",
       "    <tr>\n",
       "      <th>B</th>\n",
       "      <td>3</td>\n",
       "    </tr>\n",
       "    <tr>\n",
       "      <th>E</th>\n",
       "      <td>3</td>\n",
       "    </tr>\n",
       "  </tbody>\n",
       "</table>\n",
       "</div>"
      ],
      "text/plain": [
       "   Freq\n",
       "A     2\n",
       "C     3\n",
       "D     1\n",
       "B     3\n",
       "E     3"
      ]
     },
     "execution_count": 4,
     "metadata": {},
     "output_type": "execute_result"
    }
   ],
   "source": [
    "item_counts = defaultdict(int)\n",
    "for items in transactions:\n",
    "    for item in items:\n",
    "        item_counts[item] += 1\n",
    "\n",
    "pd.DataFrame.from_dict(item_counts, orient='index', columns=['Freq'])"
   ]
  },
  {
   "cell_type": "code",
   "execution_count": 6,
   "id": "36e6825d",
   "metadata": {},
   "outputs": [
    {
     "name": "stdout",
     "output_type": "stream",
     "text": [
      "1_itemset : \n",
      "{{A}, {B}, {E}, {C}}\n"
     ]
    }
   ],
   "source": [
    "min_support = 2\n",
    "\n",
    "frequent_1_itemsets = {frozenset([item]) for item, count in item_counts.items() if count >= min_support}\n",
    "print(\"1_itemset : \")\n",
    "print_frozenset(frequent_1_itemsets)"
   ]
  },
  {
   "cell_type": "code",
   "execution_count": 7,
   "id": "f635202a",
   "metadata": {},
   "outputs": [],
   "source": [
    "def generate_candidates(prev_itemsets, k):\n",
    "    candidates = set()\n",
    "    \n",
    "    for itemset1 in prev_itemsets:\n",
    "        for itemset2 in prev_itemsets:\n",
    "            if len(itemset1.union(itemset2)) == k:\n",
    "                candidates.add(itemset1.union(itemset2))\n",
    "                \n",
    "    return candidates"
   ]
  },
  {
   "cell_type": "code",
   "execution_count": 8,
   "id": "86668d00",
   "metadata": {},
   "outputs": [],
   "source": [
    "def prune_itemsets(candidate_itemsets, prev_frequent_itemsets):\n",
    "    pruned_itemsets = set()\n",
    "    \n",
    "    for itemset in candidate_itemsets:\n",
    "        subsets = list(combinations(itemset, len(itemset) - 1))\n",
    "        is_frequent = True\n",
    "        for subset in subsets:\n",
    "            if frozenset(subset) not in prev_frequent_itemsets:\n",
    "                is_frequent = False\n",
    "                break\n",
    "        if is_frequent:\n",
    "            pruned_itemsets.add(itemset)\n",
    "            \n",
    "    return pruned_itemsets"
   ]
  },
  {
   "cell_type": "code",
   "execution_count": 37,
   "id": "c60d6dbb",
   "metadata": {},
   "outputs": [],
   "source": [
    "def calculate_support_counts(transactions, itemsets):\n",
    "    item_counts = defaultdict(int)\n",
    "    \n",
    "    for itemset in itemsets:\n",
    "        for transaction in transactions:\n",
    "            if itemset.issubset(set(transaction)):\n",
    "                item_counts[itemset] += 1\n",
    "    \n",
    "    return item_counts"
   ]
  },
  {
   "cell_type": "code",
   "execution_count": 42,
   "id": "6acabdd9",
   "metadata": {},
   "outputs": [
    {
     "name": "stdout",
     "output_type": "stream",
     "text": [
      "2_itemset : \n",
      "{{E, A}, {C, B}, {B, A}, {C, A}, {B, E}, {C, E}}\n",
      "\n",
      "pruned itemset : \n",
      "{{E, A}, {C, B}, {B, A}, {C, A}, {B, E}, {C, E}}\n",
      "\n",
      "frequency of itemsets : \n",
      "        freq\n",
      "(E, A)     1\n",
      "(C, B)     2\n",
      "(B, A)     1\n",
      "(C, A)     2\n",
      "(B, E)     3\n",
      "(C, E)     2\n",
      "\n",
      "frequent_2_itemsets : \n",
      "{{C, A}, {C, B}, {B, E}, {C, E}}\n",
      "----------------------------------------\n",
      "3_itemset : \n",
      "{{E, B, A}, {C, B, A}, {C, B, E}, {C, E, A}}\n",
      "\n",
      "pruned itemset : \n",
      "{{C, B, E}}\n",
      "\n",
      "frequency of itemsets : \n",
      "           freq\n",
      "(C, B, E)     2\n",
      "\n",
      "frequent_3_itemsets : \n",
      "{{C, B, E}}\n",
      "----------------------------------------\n",
      "4_itemset : \n",
      "{{C, B, A, E}}\n",
      "\n",
      "pruned itemset : \n",
      "{{}}\n",
      "\n",
      "frequency of itemsets : \n",
      "Empty DataFrame\n",
      "Columns: [freq]\n",
      "Index: []\n",
      "\n",
      "frequent_4_itemsets : \n",
      "{{}}\n",
      "----------------------------------------\n"
     ]
    }
   ],
   "source": [
    "k = 2\n",
    "frequent_itemsets = frequent_1_itemsets\n",
    "\n",
    "while True:\n",
    "    candidate_itemsets = generate_candidates(frequent_itemsets, k)\n",
    "    print(f\"{k}_itemset : \")\n",
    "    print_frozenset(candidate_itemsets)\n",
    "    \n",
    "    # prune the itemsets     \n",
    "    candidate_itemsets = prune_itemsets(candidate_itemsets, frequent_itemsets)\n",
    "    print(\"\\npruned itemset : \")\n",
    "    print_frozenset(candidate_itemsets)\n",
    "    \n",
    "    # Count item frequencies in transactions\n",
    "    item_counts = calculate_support_counts(transactions, candidate_itemsets)\n",
    "    print(\"\\nfrequency of itemsets : \")\n",
    "    print(pd.DataFrame.from_dict(item_counts, orient='index', columns=['freq']))\n",
    "    \n",
    "    # Find frequent k-itemsets\n",
    "    frequent_k_itemsets = {itemset for itemset, count in item_counts.items() if count >= min_support}\n",
    "    print(f\"\\nfrequent_{k}_itemsets : \") \n",
    "    print_frozenset(frequent_k_itemsets)\n",
    "    print(\"-\" * 40)\n",
    "    \n",
    "    if len(frequent_k_itemsets) == 0:\n",
    "        break\n",
    "\n",
    "    frequent_itemsets.update(frequent_k_itemsets)\n",
    "    k += 1"
   ]
  },
  {
   "cell_type": "code",
   "execution_count": 43,
   "id": "01a1b465",
   "metadata": {},
   "outputs": [
    {
     "name": "stdout",
     "output_type": "stream",
     "text": [
      "Frequent Itemsets:\n",
      "{{A}, {C}, {C, B}, {C, A}, {B, E}, {B}, {C, B, E}, {C, E}, {E}}\n"
     ]
    }
   ],
   "source": [
    "print(\"Frequent Itemsets:\")\n",
    "print_frozenset(frequent_itemsets)"
   ]
  },
  {
   "cell_type": "code",
   "execution_count": 44,
   "id": "5db2e5db",
   "metadata": {},
   "outputs": [],
   "source": []
  }
 ],
 "metadata": {
  "kernelspec": {
   "display_name": "Python 3 (ipykernel)",
   "language": "python",
   "name": "python3"
  },
  "language_info": {
   "codemirror_mode": {
    "name": "ipython",
    "version": 3
   },
   "file_extension": ".py",
   "mimetype": "text/x-python",
   "name": "python",
   "nbconvert_exporter": "python",
   "pygments_lexer": "ipython3",
   "version": "3.11.5"
  }
 },
 "nbformat": 4,
 "nbformat_minor": 5
}
