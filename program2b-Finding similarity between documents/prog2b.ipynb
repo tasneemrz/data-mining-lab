{
 "cells": [
  {
   "cell_type": "markdown",
   "id": "af3b604f",
   "metadata": {},
   "source": [
    "## Find similarity among documents"
   ]
  },
  {
   "cell_type": "code",
   "execution_count": 3,
   "id": "729a7a94",
   "metadata": {},
   "outputs": [],
   "source": [
    "import pandas as pd\n",
    "import numpy as np"
   ]
  },
  {
   "cell_type": "code",
   "execution_count": 4,
   "id": "44a639a7",
   "metadata": {},
   "outputs": [],
   "source": [
    "def formDictionary(textfile):\n",
    "    puntulation=''',.?/><\\|\"';:~`!@#$%^&*()_-+='''\n",
    "    with open(f'{textfile}', 'r') as f:\n",
    "        s = f.read()\n",
    "        mystring= s.split()\n",
    "\n",
    "    dictionary={}\n",
    "    for ele in mystring:\n",
    "        if ele[-1] in puntulation:\n",
    "            ele = ele[0:len(ele)-1]\n",
    "        if ele in dictionary:\n",
    "            dictionary[ele] += 1\n",
    "        else:\n",
    "            dictionary.update({ele:1})\n",
    "    \n",
    "    return dictionary"
   ]
  },
  {
   "cell_type": "code",
   "execution_count": 7,
   "id": "b4f3f99c",
   "metadata": {},
   "outputs": [
    {
     "name": "stdout",
     "output_type": "stream",
     "text": [
      "\n",
      "doc1 :  {'The': 1, 'quick': 1, 'brown': 1, 'fox': 1, 'jumps': 1, 'over': 1, 'the': 1, 'lazy': 1, 'dog': 1, 'This': 1, 'is': 1, 'a': 1, 'test': 1, 'document': 1, 'for': 1, 'cosine': 1, 'similarity': 1}\n",
      "\n",
      "doc2 :  {'A': 1, 'red': 1, 'apple': 1, 'hangs': 1, 'from': 1, 'a': 1, 'tree': 1, 'branch': 1, 'This': 1, 'document': 1, 'is': 1, 'meant': 1, 'to': 1, 'showcase': 1, 'cosine': 1, 'similarity': 1, 'in': 1, 'action': 1}\n",
      "\n",
      "doc3 :  {'Cosine': 1, 'similarity': 2, 'is': 2, 'a': 1, 'measure': 1, 'of': 1, 'between': 1, 'two': 1, 'non-zero': 1, 'vectors': 1, 'It': 1, 'often': 1, 'used': 1, 'in': 1, 'natural': 1, 'language': 1, 'processing': 1}\n",
      "\n",
      "doc4 :  {'Machine': 1, 'learning': 1, 'is': 1, 'a': 1, 'subset': 1, 'of': 1, 'artificial': 1, 'intelligence': 1, 'It': 1, 'involves': 1, 'training': 1, 'models': 1, 'on': 1, 'data': 1, 'to': 1, 'make': 1, 'predictions': 1, 'or': 1, 'decisions': 1}\n",
      "\n",
      "doc5 :  {'Python': 1, 'is': 1, 'a': 2, 'popular': 1, 'programming': 1, 'language': 1, 'known': 1, 'for': 1, 'its': 1, 'simplicity': 1, 'and': 2, 'readability': 1, 'It': 1, 'has': 1, 'wide': 1, 'range': 1, 'of': 1, 'applications': 1, 'including': 1, 'web': 1, 'development': 1, 'data': 1, 'analysis': 1, 'more': 1}\n",
      "\n",
      "\n",
      "[[0. 0. 0. 1. 0. 0. 0. 1. 0. 0. 0. 0. 0. 0. 0. 1. 0. 0. 1. 0. 0. 0. 0. 0.\n",
      "  1. 0. 1. 0. 0. 0. 0. 0. 0. 1. 0. 0. 0. 0. 0. 0. 0. 0. 1. 1. 0. 1. 0. 0.\n",
      "  0. 0. 0. 0. 0. 0. 0. 0. 1. 1. 1. 1. 0. 0. 0. 0. 1. 0. 0. 1. 0. 0. 1. 0.\n",
      "  0.]\n",
      " [1. 1. 0. 0. 1. 0. 0. 0. 0. 0. 1. 0. 0. 0. 0. 1. 0. 0. 0. 0. 0. 0. 0. 0.\n",
      "  0. 0. 1. 0. 1. 1. 1. 1. 1. 0. 0. 0. 1. 0. 0. 0. 0. 0. 0. 1. 0. 1. 0. 0.\n",
      "  0. 0. 0. 0. 0. 0. 0. 0. 1. 0. 0. 0. 1. 0. 0. 0. 1. 1. 0. 0. 0. 0. 0. 0.\n",
      "  0.]\n",
      " [0. 0. 0. 0. 0. 0. 0. 0. 0. 1. 0. 1. 0. 0. 1. 1. 0. 0. 0. 0. 0. 1. 1. 0.\n",
      "  0. 0. 0. 0. 0. 0. 0. 0. 0. 0. 1. 0. 1. 1. 1. 1. 0. 0. 0. 0. 0. 2. 0. 1.\n",
      "  0. 0. 1. 0. 0. 0. 0. 0. 0. 0. 0. 0. 0. 1. 0. 0. 2. 0. 0. 0. 0. 1. 0. 0.\n",
      "  0.]\n",
      " [0. 0. 0. 0. 0. 0. 0. 0. 1. 0. 0. 1. 1. 0. 0. 1. 1. 0. 0. 1. 0. 0. 0. 1.\n",
      "  0. 0. 0. 0. 0. 0. 0. 0. 0. 0. 0. 0. 0. 0. 0. 1. 1. 1. 0. 0. 0. 1. 0. 0.\n",
      "  1. 0. 0. 1. 0. 0. 0. 0. 0. 0. 0. 0. 0. 0. 1. 1. 0. 1. 1. 0. 1. 0. 0. 0.\n",
      "  1.]\n",
      " [0. 0. 1. 0. 0. 1. 1. 0. 0. 0. 0. 1. 0. 2. 0. 2. 0. 1. 0. 0. 1. 0. 0. 0.\n",
      "  0. 1. 0. 1. 0. 0. 0. 0. 0. 0. 1. 1. 0. 0. 0. 1. 1. 0. 0. 0. 1. 1. 1. 0.\n",
      "  0. 1. 0. 0. 1. 1. 1. 1. 0. 0. 0. 1. 0. 0. 0. 0. 0. 0. 0. 0. 0. 0. 0. 1.\n",
      "  0.]]\n"
     ]
    }
   ],
   "source": [
    "dictionary1 = formDictionary('doc1.txt')\n",
    "print(\"\\ndoc1 : \", dictionary1)\n",
    "dictionary2 = formDictionary('doc2.txt')\n",
    "print(\"\\ndoc2 : \", dictionary2)\n",
    "dictionary3 = formDictionary('doc3.txt')\n",
    "print(\"\\ndoc3 : \", dictionary3)\n",
    "dictionary4 = formDictionary('doc4.txt')\n",
    "print(\"\\ndoc4 : \", dictionary4)\n",
    "dictionary5 = formDictionary('doc5.txt')\n",
    "print(\"\\ndoc5 : \", dictionary5)\n",
    "\n",
    "dictionaries = [dictionary1, dictionary2, dictionary3, dictionary4, dictionary5]\n",
    "\n",
    "# Create a set of unique words from all dictionaries\n",
    "all_words = set(word for dictionary in dictionaries for word in dictionary.keys())\n",
    "\n",
    "# Initialize a matrix with zeros\n",
    "word_freq_matrix = np.zeros((len(dictionaries), len(all_words)))\n",
    "\n",
    "# Fill in the matrix with word frequencies\n",
    "for i, dictionary in enumerate(dictionaries):\n",
    "    for j, word in enumerate(all_words):\n",
    "        matrix[i, j] = dictionary.get(word, 0)\n",
    "\n",
    "# Print the matrix\n",
    "print(\"\\n\")\n",
    "print(word_freq_matrix)"
   ]
  },
  {
   "cell_type": "code",
   "execution_count": 12,
   "id": "875e2342",
   "metadata": {},
   "outputs": [
    {
     "name": "stdout",
     "output_type": "stream",
     "text": [
      "Similarity Matrix : \n",
      "\n",
      " [[1.   0.34 0.25 0.11 0.18]\n",
      " [0.34 1.   0.29 0.16 0.13]\n",
      " [0.25 0.29 1.   0.24 0.27]\n",
      " [0.11 0.16 0.24 1.   0.25]\n",
      " [0.18 0.13 0.27 0.25 1.  ]]\n"
     ]
    }
   ],
   "source": [
    "from sklearn.metrics.pairwise import cosine_similarity\n",
    "# Initialize an empty similarity matrix of size [numdocs][numdocs]\n",
    "num_rows = word_freq_matrix.shape[0]\n",
    "similarity_matrix = np.zeros((num_rows, num_rows))\n",
    "\n",
    "# Calculate cosine similarity between all pairs of rows / docs\n",
    "for i in range(num_rows):\n",
    "    for j in range(i, num_rows):\n",
    "        # Calculate the cosine similarity using numpy's dot product and euclidean norms\n",
    "        similarity = np.dot(word_freq_matrix[i], word_freq_matrix[j]) / (np.linalg.norm(word_freq_matrix[i]) * np.linalg.norm(word_freq_matrix[j]))\n",
    "        # Fill both sides of the symmetric similarity matrix\n",
    "        similarity_matrix[i, j] = round(similarity, 2)\n",
    "        similarity_matrix[j, i] = round(similarity, 2)\n",
    "\n",
    "print(\"Similarity Matrix : \\n\\n\", similarity_matrix)"
   ]
  },
  {
   "cell_type": "code",
   "execution_count": null,
   "id": "71f0e5e5",
   "metadata": {},
   "outputs": [],
   "source": []
  }
 ],
 "metadata": {
  "kernelspec": {
   "display_name": "Python 3 (ipykernel)",
   "language": "python",
   "name": "python3"
  },
  "language_info": {
   "codemirror_mode": {
    "name": "ipython",
    "version": 3
   },
   "file_extension": ".py",
   "mimetype": "text/x-python",
   "name": "python",
   "nbconvert_exporter": "python",
   "pygments_lexer": "ipython3",
   "version": "3.11.3"
  }
 },
 "nbformat": 4,
 "nbformat_minor": 5
}
