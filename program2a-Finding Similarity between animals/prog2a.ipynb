{
 "cells": [
  {
   "cell_type": "markdown",
   "id": "83f1d913",
   "metadata": {},
   "source": [
    "## Finding Similarity between animals"
   ]
  },
  {
   "cell_type": "code",
   "execution_count": 44,
   "id": "1ab91493",
   "metadata": {},
   "outputs": [],
   "source": [
    "import pandas as pd\n",
    "import math"
   ]
  },
  {
   "cell_type": "code",
   "execution_count": 45,
   "id": "d2513c74",
   "metadata": {},
   "outputs": [],
   "source": [
    "animals_data = pd.read_csv(r\"D:\\Tasneem\\SEM 7\\CEN-791 Data Mining Lab\\animal.txt\")"
   ]
  },
  {
   "cell_type": "code",
   "execution_count": 46,
   "id": "f3643f37",
   "metadata": {},
   "outputs": [
    {
     "name": "stdout",
     "output_type": "stream",
     "text": [
      "   Unnamed: 0  war  fly  ver  end  gro  hai\n",
      "0         ant    1    1    1  1.0  2.0    1\n",
      "1         bee    1    2    1  1.0  2.0    2\n",
      "2         cat    2    1    2  1.0  1.0    2\n",
      "3         cpl    1    1    1  1.0  1.0    2\n",
      "4         chi    2    1    2  2.0  2.0    2\n",
      "5         cow    2    1    2  1.0  2.0    2\n",
      "6         duc    2    2    2  1.0  2.0    1\n",
      "7         eag    2    2    2  2.0  1.0    1\n",
      "8         ele    2    1    2  2.0  2.0    1\n",
      "9         fly    1    2    1  1.0  1.0    1\n",
      "10        fro    1    1    2  2.0  NaN    1\n",
      "11        her    1    1    2  1.0  2.0    1\n",
      "12        lio    2    1    2  NaN  2.0    2\n",
      "13        liz    1    1    2  1.0  1.0    1\n",
      "14        lob    1    1    1  1.0  NaN    1\n",
      "15        man    2    1    2  2.0  2.0    2\n",
      "16        rab    2    1    2  1.0  2.0    2\n",
      "17        sal    1    1    2  1.0  NaN    1\n",
      "18        spi    1    1    1  NaN  1.0    2\n",
      "19        wha    2    1    2  2.0  2.0    1\n"
     ]
    }
   ],
   "source": [
    "print(animals_data)"
   ]
  },
  {
   "cell_type": "code",
   "execution_count": 47,
   "id": "3a42af57",
   "metadata": {},
   "outputs": [],
   "source": [
    "animals_array = animals_data.to_numpy(na_value = 0)"
   ]
  },
  {
   "cell_type": "code",
   "execution_count": 48,
   "id": "c9fdf973",
   "metadata": {
    "scrolled": true
   },
   "outputs": [
    {
     "name": "stdout",
     "output_type": "stream",
     "text": [
      "[['ant' 1 1 1 1.0 2.0 1]\n",
      " ['bee' 1 2 1 1.0 2.0 2]\n",
      " ['cat' 2 1 2 1.0 1.0 2]\n",
      " ['cpl' 1 1 1 1.0 1.0 2]\n",
      " ['chi' 2 1 2 2.0 2.0 2]\n",
      " ['cow' 2 1 2 1.0 2.0 2]\n",
      " ['duc' 2 2 2 1.0 2.0 1]\n",
      " ['eag' 2 2 2 2.0 1.0 1]\n",
      " ['ele' 2 1 2 2.0 2.0 1]\n",
      " ['fly' 1 2 1 1.0 1.0 1]\n",
      " ['fro' 1 1 2 2.0 0 1]\n",
      " ['her' 1 1 2 1.0 2.0 1]\n",
      " ['lio' 2 1 2 0 2.0 2]\n",
      " ['liz' 1 1 2 1.0 1.0 1]\n",
      " ['lob' 1 1 1 1.0 0 1]\n",
      " ['man' 2 1 2 2.0 2.0 2]\n",
      " ['rab' 2 1 2 1.0 2.0 2]\n",
      " ['sal' 1 1 2 1.0 0 1]\n",
      " ['spi' 1 1 1 0 1.0 2]\n",
      " ['wha' 2 1 2 2.0 2.0 1]]\n"
     ]
    }
   ],
   "source": [
    "print(animals_array)"
   ]
  },
  {
   "cell_type": "code",
   "execution_count": 49,
   "id": "7b75bd7a",
   "metadata": {},
   "outputs": [],
   "source": [
    "ans = []\n",
    "new = []\n",
    "\n",
    "for i in range(0, 20):\n",
    "    for j in range(i + 1, 20):\n",
    "        sum = 0\n",
    "        for col in range(1, 7):\n",
    "            if(animals_array[i][col] == 0 or animals_array[j][col] == 0):\n",
    "                continue\n",
    "            else:\n",
    "                diff = (animals_array[i][col] - animals_array[j][col])\n",
    "                sum += diff * diff;\n",
    "\n",
    "        similarity = math.sqrt(sum)\n",
    "        similarity = round(similarity, 2)\n",
    "        \n",
    "        new.append(animals_array[i][0])\n",
    "        new.append(animals_array[j][0])\n",
    "        new.append(similarity)\n",
    "        ans.append(new)\n",
    "        new = []"
   ]
  },
  {
   "cell_type": "code",
   "execution_count": 50,
   "id": "1515f4a0",
   "metadata": {},
   "outputs": [
    {
     "name": "stdout",
     "output_type": "stream",
     "text": [
      "['chi', 'fly', 2.45]\n",
      "['fly', 'man', 2.45]\n",
      "['ant', 'eag', 2.24]\n",
      "['bee', 'eag', 2.24]\n",
      "['bee', 'ele', 2.24]\n",
      "['bee', 'wha', 2.24]\n",
      "['cpl', 'duc', 2.24]\n",
      "['cpl', 'eag', 2.24]\n",
      "['cpl', 'ele', 2.24]\n",
      "['cpl', 'wha', 2.24]\n"
     ]
    }
   ],
   "source": [
    "ans.sort(key = lambda x:x[2], reverse = True)\n",
    "\n",
    "for i in range(0, 10):\n",
    "    print(ans[i])"
   ]
  },
  {
   "cell_type": "code",
   "execution_count": null,
   "id": "55e54ff8",
   "metadata": {},
   "outputs": [],
   "source": []
  }
 ],
 "metadata": {
  "kernelspec": {
   "display_name": "Python 3 (ipykernel)",
   "language": "python",
   "name": "python3"
  },
  "language_info": {
   "codemirror_mode": {
    "name": "ipython",
    "version": 3
   },
   "file_extension": ".py",
   "mimetype": "text/x-python",
   "name": "python",
   "nbconvert_exporter": "python",
   "pygments_lexer": "ipython3",
   "version": "3.11.5"
  }
 },
 "nbformat": 4,
 "nbformat_minor": 5
}
