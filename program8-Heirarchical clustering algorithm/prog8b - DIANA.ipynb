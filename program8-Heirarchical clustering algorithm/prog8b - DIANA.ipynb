{
 "cells": [
  {
   "cell_type": "markdown",
   "metadata": {},
   "source": [
    "## Hierarchical Divisive Clustering"
   ]
  },
  {
   "cell_type": "code",
   "execution_count": 1,
   "metadata": {},
   "outputs": [],
   "source": [
    "import numpy as np\n",
    "import pandas as pd\n",
    "import matplotlib.pyplot as plt\n",
    "import random "
   ]
  },
  {
   "cell_type": "code",
   "execution_count": 2,
   "metadata": {},
   "outputs": [],
   "source": [
    "data_points=[]\n",
    "max_value=100\n",
    "data_length=5\n",
    "for i in range(data_length):\n",
    "    data_points.append([int(random.random()*max_value), int(random.random()*max_value)])"
   ]
  },
  {
   "cell_type": "code",
   "execution_count": 3,
   "metadata": {},
   "outputs": [
    {
     "name": "stdout",
     "output_type": "stream",
     "text": [
      "[[65, 99], [58, 18], [93, 44], [18, 68], [39, 67]]\n"
     ]
    }
   ],
   "source": [
    "print(data_points)"
   ]
  },
  {
   "cell_type": "code",
   "execution_count": 4,
   "metadata": {},
   "outputs": [
    {
     "name": "stdout",
     "output_type": "stream",
     "text": [
      "{0: [[65, 99], [58, 18], [93, 44], [18, 68], [39, 67]]}\n"
     ]
    }
   ],
   "source": [
    "clusters={0:[]}\n",
    "# { cluster_id : [data_points] }\n",
    "\n",
    "for i in range(len(data_points)):\n",
    "    clusters[0].append(data_points[i])\n",
    "\n",
    "print(clusters)"
   ]
  },
  {
   "cell_type": "code",
   "execution_count": 5,
   "metadata": {},
   "outputs": [],
   "source": [
    "def euclidean_distance(a,b):\n",
    "    dist=0\n",
    "    for i in range(len(a)):\n",
    "        dist+=(a[i]-b[i])**2\n",
    "    return dist**0.5\n",
    "\n",
    "# give the centroids point of multiple clusters\n",
    "def combine_points(pointarr):\n",
    "    x=0\n",
    "    y=0\n",
    "    for i in range(len(pointarr)):\n",
    "        x+=pointarr[i][0]\n",
    "        y+=pointarr[i][1]\n",
    "    return [x/len(pointarr),y/len(pointarr)]\n",
    "\n",
    "# find the minimum distance between two clusters\n",
    "def find_max_dist(clusters):\n",
    "    max_dist=0\n",
    "    for idx in clusters:\n",
    "        pointx=combine_points(clusters[idx])\n",
    "        for indx in range(len(clusters[idx])):\n",
    "            pointy=clusters[idx][indx]\n",
    "            dist=euclidean_distance(pointx,pointy)\n",
    "            max_dist=max(max_dist,dist)\n",
    "    return max_dist\n",
    "\n",
    "# find the clusters that have minimum distance between them and make connections or edges between them\n",
    "def find_farthest_point_in_cluster(cluster,max_dist):\n",
    "    pointx=combine_points(cluster)\n",
    "    points=[]\n",
    "    for indx in range(len(cluster)):\n",
    "        pointy=cluster[indx]\n",
    "        dist=euclidean_distance(pointx,pointy)\n",
    "        if dist==max_dist:\n",
    "            points.append(pointy)\n",
    "\n",
    "    return points\n",
    "\n",
    "# merge the clusters\n",
    "def seperate_cluster(clusters,farthest_points):\n",
    "    id_count=len(clusters)\n",
    "    new_clusters={}\n",
    "    for fidx in farthest_points:\n",
    "        for indx in range(len(farthest_points[fidx])):\n",
    "            for cid in clusters:\n",
    "                if farthest_points[fidx][indx] in clusters[cid]:\n",
    "                    new_clusters.update({id_count:[farthest_points[fidx][indx]]})\n",
    "                    id_count+=1\n",
    "                    clusters[cid].remove(farthest_points[fidx][indx])\n",
    "                    \n",
    "    # print(clusters)\n",
    "    for cid in clusters:\n",
    "        if len(clusters[cid])==0:\n",
    "            continue\n",
    "        new_clusters.update({cid:clusters[cid]})\n",
    "    return new_clusters\n",
    "    "
   ]
  },
  {
   "cell_type": "code",
   "execution_count": 6,
   "metadata": {},
   "outputs": [],
   "source": [
    "def update_cluster(clusters):\n",
    "    new_clusters={}\n",
    "\n",
    "    # {cluster_id: fartherst_points}\n",
    "    fartherst_point={} \n",
    "    max_dist=find_max_dist(clusters)\n",
    "    for idx in clusters:\n",
    "        temp=find_farthest_point_in_cluster(clusters[idx],max_dist)\n",
    "        if len(temp)==0:continue\n",
    "        fartherst_point.update({idx:temp})\n",
    "\n",
    "    new_clusters=seperate_cluster(clusters,fartherst_point)\n",
    "    return new_clusters"
   ]
  },
  {
   "cell_type": "code",
   "execution_count": 7,
   "metadata": {},
   "outputs": [],
   "source": [
    "def print_clusters(clusters):\n",
    "    print(\"clusters len : \",len(clusters))\n",
    "    for idx in clusters:\n",
    "        print(idx,\":\",clusters[idx])\n",
    "    print(\"\\n\\n\")"
   ]
  },
  {
   "cell_type": "code",
   "execution_count": 8,
   "metadata": {},
   "outputs": [],
   "source": [
    "def divisive_clustering(clusters):\n",
    "    while len(clusters)<data_length:\n",
    "        print_clusters(clusters)\n",
    "        clusters=update_cluster(clusters)\n",
    "    print_clusters(clusters)"
   ]
  },
  {
   "cell_type": "code",
   "execution_count": 9,
   "metadata": {},
   "outputs": [
    {
     "name": "stdout",
     "output_type": "stream",
     "text": [
      "clusters len :  1\n",
      "0 : [[65, 99], [58, 18], [93, 44], [18, 68], [39, 67]]\n",
      "\n",
      "\n",
      "\n",
      "clusters len :  2\n",
      "1 : [[58, 18]]\n",
      "0 : [[65, 99], [93, 44], [18, 68], [39, 67]]\n",
      "\n",
      "\n",
      "\n",
      "clusters len :  3\n",
      "2 : [[93, 44]]\n",
      "1 : [[58, 18]]\n",
      "0 : [[65, 99], [18, 68], [39, 67]]\n",
      "\n",
      "\n",
      "\n",
      "clusters len :  4\n",
      "3 : [[65, 99]]\n",
      "2 : [[93, 44]]\n",
      "1 : [[58, 18]]\n",
      "0 : [[18, 68], [39, 67]]\n",
      "\n",
      "\n",
      "\n",
      "clusters len :  5\n",
      "4 : [[18, 68]]\n",
      "5 : [[39, 67]]\n",
      "3 : [[65, 99]]\n",
      "2 : [[93, 44]]\n",
      "1 : [[58, 18]]\n",
      "\n",
      "\n",
      "\n"
     ]
    }
   ],
   "source": [
    "divisive_clustering(clusters)"
   ]
  },
  {
   "cell_type": "code",
   "execution_count": null,
   "metadata": {},
   "outputs": [],
   "source": []
  }
 ],
 "metadata": {
  "kernelspec": {
   "display_name": "Python 3 (ipykernel)",
   "language": "python",
   "name": "python3"
  },
  "language_info": {
   "codemirror_mode": {
    "name": "ipython",
    "version": 3
   },
   "file_extension": ".py",
   "mimetype": "text/x-python",
   "name": "python",
   "nbconvert_exporter": "python",
   "pygments_lexer": "ipython3",
   "version": "3.11.5"
  }
 },
 "nbformat": 4,
 "nbformat_minor": 2
}
