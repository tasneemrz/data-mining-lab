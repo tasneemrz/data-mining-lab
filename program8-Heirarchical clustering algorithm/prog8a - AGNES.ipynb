{
 "cells": [
  {
   "cell_type": "markdown",
   "metadata": {},
   "source": [
    "## Hierarchical Agglomerative Clustering"
   ]
  },
  {
   "cell_type": "code",
   "execution_count": 1,
   "metadata": {},
   "outputs": [],
   "source": [
    "import numpy as np\n",
    "import pandas as pd\n",
    "import matplotlib.pyplot as plt\n",
    "import random "
   ]
  },
  {
   "cell_type": "code",
   "execution_count": 2,
   "metadata": {},
   "outputs": [],
   "source": [
    "data_points=[]\n",
    "max_value=10\n",
    "data_length=5\n",
    "for i in range(data_length):\n",
    "    data_points.append([int(random.random()*max_value), int(random.random()*max_value)])"
   ]
  },
  {
   "cell_type": "code",
   "execution_count": 3,
   "metadata": {
    "scrolled": true
   },
   "outputs": [
    {
     "name": "stdout",
     "output_type": "stream",
     "text": [
      "[[2, 5], [8, 7], [9, 7], [6, 8], [4, 1]]\n"
     ]
    }
   ],
   "source": [
    "print(data_points)"
   ]
  },
  {
   "cell_type": "code",
   "execution_count": 4,
   "metadata": {},
   "outputs": [
    {
     "name": "stdout",
     "output_type": "stream",
     "text": [
      "{0: [[2, 5]], 1: [[8, 7]], 2: [[9, 7]], 3: [[6, 8]], 4: [[4, 1]]}\n"
     ]
    }
   ],
   "source": [
    "clusters={}\n",
    "# { cluster_id : [data_points] }\n",
    "\n",
    "for i in range(len(data_points)):\n",
    "    clusters.update({i:[data_points[i]]})\n",
    "\n",
    "print(clusters)"
   ]
  },
  {
   "cell_type": "code",
   "execution_count": 5,
   "metadata": {},
   "outputs": [],
   "source": [
    "def euclidean_distance(a,b):\n",
    "    dist=0\n",
    "    for i in range(len(a)):\n",
    "        dist+=(a[i]-b[i])**2\n",
    "    return dist**0.5\n",
    "\n",
    "# find the centroid point of clusters\n",
    "def combine_points(pointarr):\n",
    "    x=0\n",
    "    y=0\n",
    "    for i in range(len(pointarr)):\n",
    "        x+=pointarr[i][0]\n",
    "        y+=pointarr[i][1]\n",
    "    return [x/len(pointarr),y/len(pointarr)]\n",
    "\n",
    "# find the minimum distance between two clusters\n",
    "def find_min_dist(clusters):\n",
    "    point1 = 0\n",
    "    point2 = 0\n",
    "    min_dist=9999\n",
    "    for idx in range(len(clusters)):\n",
    "        pointx = combine_points(clusters[idx])\n",
    "        for idy in range(len(clusters)):\n",
    "            if idx >= idy:continue\n",
    "            pointy = combine_points(clusters[idy])\n",
    "            dist = euclidean_distance(pointx, pointy)\n",
    "#             min_dist = min(min_dist, dist)\n",
    "            if(dist < min_dist):\n",
    "                min_dist = dist\n",
    "                point1 = idx\n",
    "                point2 = idy\n",
    "            \n",
    "    print(\"points:\", point1, point2)\n",
    "    print(\"min distance: \", min_dist)\n",
    "    return min_dist\n",
    "\n",
    "# find the clusters that have minimum distance between them and make connections or edges between them (adjacency list)\n",
    "def find_connections(clusters, min_dist):\n",
    "    adj_list = [[] for i in range(len(clusters))]\n",
    "    for idx in range(len(clusters)):\n",
    "        pointx = combine_points(clusters[idx])\n",
    "        for idy in range(len(clusters)):\n",
    "            if idx >= idy:continue\n",
    "            pointy = combine_points(clusters[idy])\n",
    "            dist = euclidean_distance(pointx, pointy)\n",
    "            if dist == min_dist:\n",
    "                adj_list[idx].append(idy)\n",
    "                adj_list[idy].append(idx)\n",
    "\n",
    "    return adj_list\n",
    "\n",
    "# merge the clusters\n",
    "def bfs_merge_cluster(src, clusters, adj_list, visited):\n",
    "    queue=[src]\n",
    "    new_cluster = []\n",
    "\n",
    "    while queue:\n",
    "        idx = queue.pop(0)\n",
    "        if visited[idx]:continue\n",
    "\n",
    "        visited[idx] = True\n",
    "        for indx in range(len(clusters[idx])):\n",
    "            new_cluster.append(clusters[idx][indx])\n",
    "\n",
    "        for idy in adj_list[idx]:\n",
    "            if visited[idy]:continue\n",
    "            queue.append(idy)\n",
    "            \n",
    "    return new_cluster"
   ]
  },
  {
   "cell_type": "code",
   "execution_count": 6,
   "metadata": {},
   "outputs": [],
   "source": [
    "def update_cluster(clusters):\n",
    "    new_clusters = {}\n",
    "\n",
    "    adj_list = find_connections(clusters, find_min_dist(clusters))\n",
    "    print(\"Adjacency list : \", adj_list)\n",
    "    visited = [False for i in range(len(clusters))]\n",
    "    id_count = 0;\n",
    "    for idx in range(len(clusters)):\n",
    "        \n",
    "        if visited[idx]:continue\n",
    "\n",
    "        new_cluster = bfs_merge_cluster(idx,clusters,adj_list,visited)\n",
    "        \n",
    "        new_clusters.update({id_count:new_cluster})\n",
    "        id_count += 1\n",
    "\n",
    "    return new_clusters"
   ]
  },
  {
   "cell_type": "code",
   "execution_count": 7,
   "metadata": {},
   "outputs": [],
   "source": [
    "def print_clusters(clusters):\n",
    "    print(\"clusters len : \",len(clusters))\n",
    "    for idx in clusters:\n",
    "        print(idx,\":\",clusters[idx])\n",
    "    print(\"\\n\\n\")"
   ]
  },
  {
   "cell_type": "code",
   "execution_count": 8,
   "metadata": {},
   "outputs": [],
   "source": [
    "def agglomerative_clustering(clusters):\n",
    "    while len(clusters)>1:\n",
    "        print_clusters(clusters)\n",
    "        clusters=update_cluster(clusters)\n",
    "\n",
    "    print_clusters(clusters)"
   ]
  },
  {
   "cell_type": "code",
   "execution_count": 9,
   "metadata": {
    "scrolled": true
   },
   "outputs": [
    {
     "name": "stdout",
     "output_type": "stream",
     "text": [
      "clusters len :  5\n",
      "0 : [[2, 5]]\n",
      "1 : [[8, 7]]\n",
      "2 : [[9, 7]]\n",
      "3 : [[6, 8]]\n",
      "4 : [[4, 1]]\n",
      "\n",
      "\n",
      "\n",
      "points: 1 2\n",
      "min distance:  1.0\n",
      "Adjacency list :  [[], [2], [1], [], []]\n",
      "clusters len :  4\n",
      "0 : [[2, 5]]\n",
      "1 : [[8, 7], [9, 7]]\n",
      "2 : [[6, 8]]\n",
      "3 : [[4, 1]]\n",
      "\n",
      "\n",
      "\n",
      "points: 1 2\n",
      "min distance:  2.692582403567252\n",
      "Adjacency list :  [[], [2], [1], []]\n",
      "clusters len :  3\n",
      "0 : [[2, 5]]\n",
      "1 : [[8, 7], [9, 7], [6, 8]]\n",
      "2 : [[4, 1]]\n",
      "\n",
      "\n",
      "\n",
      "points: 0 2\n",
      "min distance:  4.47213595499958\n",
      "Adjacency list :  [[2], [], [0]]\n",
      "clusters len :  2\n",
      "0 : [[2, 5], [4, 1]]\n",
      "1 : [[8, 7], [9, 7], [6, 8]]\n",
      "\n",
      "\n",
      "\n",
      "points: 0 1\n",
      "min distance:  6.368324391514267\n",
      "Adjacency list :  [[1], [0]]\n",
      "clusters len :  1\n",
      "0 : [[2, 5], [4, 1], [8, 7], [9, 7], [6, 8]]\n",
      "\n",
      "\n",
      "\n"
     ]
    }
   ],
   "source": [
    "agglomerative_clustering(clusters)"
   ]
  },
  {
   "cell_type": "code",
   "execution_count": null,
   "metadata": {},
   "outputs": [],
   "source": []
  }
 ],
 "metadata": {
  "kernelspec": {
   "display_name": "Python 3 (ipykernel)",
   "language": "python",
   "name": "python3"
  },
  "language_info": {
   "codemirror_mode": {
    "name": "ipython",
    "version": 3
   },
   "file_extension": ".py",
   "mimetype": "text/x-python",
   "name": "python",
   "nbconvert_exporter": "python",
   "pygments_lexer": "ipython3",
   "version": "3.11.5"
  }
 },
 "nbformat": 4,
 "nbformat_minor": 2
}
